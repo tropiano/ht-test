{
 "cells": [
  {
   "cell_type": "code",
   "execution_count": 1,
   "metadata": {
    "collapsed": true
   },
   "outputs": [],
   "source": [
    "import pandas as pd\n",
    "\n"
   ]
  },
  {
   "cell_type": "code",
   "execution_count": 2,
   "metadata": {
    "collapsed": true
   },
   "outputs": [],
   "source": [
    "test = pd.read_csv(\"test_ratings.csv\")"
   ]
  },
  {
   "cell_type": "code",
   "execution_count": 3,
   "metadata": {
    "collapsed": false
   },
   "outputs": [
    {
     "data": {
      "text/html": [
       "<div>\n",
       "<table border=\"1\" class=\"dataframe\">\n",
       "  <thead>\n",
       "    <tr style=\"text-align: right;\">\n",
       "      <th></th>\n",
       "      <th>Unnamed: 0</th>\n",
       "      <th>team_id</th>\n",
       "      <th>midfield_rating</th>\n",
       "      <th>defence_rating</th>\n",
       "      <th>attack_rating</th>\n",
       "      <th>match_id</th>\n",
       "      <th>match_date</th>\n",
       "    </tr>\n",
       "  </thead>\n",
       "  <tbody>\n",
       "    <tr>\n",
       "      <th>0</th>\n",
       "      <td>0</td>\n",
       "      <td>1911645</td>\n",
       "      <td>49</td>\n",
       "      <td>183</td>\n",
       "      <td>187</td>\n",
       "      <td>557302221</td>\n",
       "      <td>2016-04-30 12:00:00</td>\n",
       "    </tr>\n",
       "    <tr>\n",
       "      <th>1</th>\n",
       "      <td>1</td>\n",
       "      <td>1171241</td>\n",
       "      <td>44</td>\n",
       "      <td>131</td>\n",
       "      <td>198</td>\n",
       "      <td>557302218</td>\n",
       "      <td>2016-04-30 12:00:00</td>\n",
       "    </tr>\n",
       "    <tr>\n",
       "      <th>2</th>\n",
       "      <td>2</td>\n",
       "      <td>1043287</td>\n",
       "      <td>60</td>\n",
       "      <td>152</td>\n",
       "      <td>177</td>\n",
       "      <td>557302221</td>\n",
       "      <td>2016-04-30 12:00:00</td>\n",
       "    </tr>\n",
       "    <tr>\n",
       "      <th>3</th>\n",
       "      <td>3</td>\n",
       "      <td>551844</td>\n",
       "      <td>46</td>\n",
       "      <td>178</td>\n",
       "      <td>151</td>\n",
       "      <td>557302229</td>\n",
       "      <td>2016-04-30 12:00:00</td>\n",
       "    </tr>\n",
       "    <tr>\n",
       "      <th>4</th>\n",
       "      <td>4</td>\n",
       "      <td>1038206</td>\n",
       "      <td>48</td>\n",
       "      <td>168</td>\n",
       "      <td>166</td>\n",
       "      <td>557302229</td>\n",
       "      <td>2016-04-30 12:00:00</td>\n",
       "    </tr>\n",
       "  </tbody>\n",
       "</table>\n",
       "</div>"
      ],
      "text/plain": [
       "   Unnamed: 0  team_id  midfield_rating  defence_rating  attack_rating  \\\n",
       "0           0  1911645               49             183            187   \n",
       "1           1  1171241               44             131            198   \n",
       "2           2  1043287               60             152            177   \n",
       "3           3   551844               46             178            151   \n",
       "4           4  1038206               48             168            166   \n",
       "\n",
       "    match_id           match_date  \n",
       "0  557302221  2016-04-30 12:00:00  \n",
       "1  557302218  2016-04-30 12:00:00  \n",
       "2  557302221  2016-04-30 12:00:00  \n",
       "3  557302229  2016-04-30 12:00:00  \n",
       "4  557302229  2016-04-30 12:00:00  "
      ]
     },
     "execution_count": 3,
     "metadata": {},
     "output_type": "execute_result"
    }
   ],
   "source": [
    "test.head()"
   ]
  },
  {
   "cell_type": "code",
   "execution_count": 19,
   "metadata": {
    "collapsed": false
   },
   "outputs": [],
   "source": [
    "from datetime import datetime\n",
    "\n",
    "date_object = datetime.strptime(test.match_date[0], '%Y-%m-%d %H:%M:%S').date()"
   ]
  },
  {
   "cell_type": "code",
   "execution_count": 20,
   "metadata": {
    "collapsed": false
   },
   "outputs": [
    {
     "data": {
      "text/plain": [
       "datetime.date(2016, 4, 30)"
      ]
     },
     "execution_count": 20,
     "metadata": {},
     "output_type": "execute_result"
    }
   ],
   "source": [
    "date_object"
   ]
  },
  {
   "cell_type": "code",
   "execution_count": 10,
   "metadata": {
    "collapsed": false
   },
   "outputs": [
    {
     "data": {
      "text/plain": [
       "'2016-04-30'"
      ]
     },
     "execution_count": 10,
     "metadata": {},
     "output_type": "execute_result"
    }
   ],
   "source": [
    "day_month"
   ]
  },
  {
   "cell_type": "code",
   "execution_count": null,
   "metadata": {
    "collapsed": true
   },
   "outputs": [],
   "source": []
  }
 ],
 "metadata": {
  "kernelspec": {
   "display_name": "Python 2",
   "language": "python",
   "name": "python2"
  },
  "language_info": {
   "codemirror_mode": {
    "name": "ipython",
    "version": 2
   },
   "file_extension": ".py",
   "mimetype": "text/x-python",
   "name": "python",
   "nbconvert_exporter": "python",
   "pygments_lexer": "ipython2",
   "version": "2.7.10"
  }
 },
 "nbformat": 4,
 "nbformat_minor": 0
}
